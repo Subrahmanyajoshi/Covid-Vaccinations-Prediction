{
 "cells": [
  {
   "cell_type": "code",
   "execution_count": 5,
   "id": "f0d3860c-130c-46e2-90ec-033768df815d",
   "metadata": {},
   "outputs": [],
   "source": [
    "# ! pip install fbprophet --quiet\n",
    "# ! pip install plotly --quiet "
   ]
  },
  {
   "cell_type": "markdown",
   "id": "183f7349-f20b-4646-9012-89c25390668b",
   "metadata": {},
   "source": [
    "If you face any error related to pystan module while installing fbprophet, follow the solution given here - https://stackoverflow.com/questions/66887159/im-trying-to-use-prophet-from-fbprophet-but-im-getting-this-excuciatingly-long"
   ]
  },
  {
   "cell_type": "markdown",
   "id": "19555770-cd5f-4503-b6e7-06678e94e5ab",
   "metadata": {},
   "source": [
    " "
   ]
  },
  {
   "cell_type": "code",
   "execution_count": 59,
   "id": "0a209f77-0b84-4f5e-865e-54509d326219",
   "metadata": {},
   "outputs": [],
   "source": [
    "from fbprophet import Prophet\n",
    "import pandas as pd\n",
    "from datetime import timedelta\n",
    "\n",
    "from matplotlib import pyplot as plt"
   ]
  },
  {
   "cell_type": "code",
   "execution_count": 60,
   "id": "6351b8f4-092a-44af-b699-89c216536e71",
   "metadata": {},
   "outputs": [
    {
     "data": {
      "text/plain": [
       "'0.7.1'"
      ]
     },
     "execution_count": 60,
     "metadata": {},
     "output_type": "execute_result"
    }
   ],
   "source": [
    "fbprophet.__version__"
   ]
  },
  {
   "cell_type": "code",
   "execution_count": 61,
   "id": "b3c7b6db-0d37-4d59-b019-d1813b8de70b",
   "metadata": {},
   "outputs": [],
   "source": [
    "# Read csv file\n",
    "df = pd.read_csv('../data/nz.csv')"
   ]
  },
  {
   "cell_type": "code",
   "execution_count": 62,
   "id": "5e8dba23-e37d-4622-a2e9-0c954f719450",
   "metadata": {},
   "outputs": [
    {
     "data": {
      "text/html": [
       "<div>\n",
       "<style scoped>\n",
       "    .dataframe tbody tr th:only-of-type {\n",
       "        vertical-align: middle;\n",
       "    }\n",
       "\n",
       "    .dataframe tbody tr th {\n",
       "        vertical-align: top;\n",
       "    }\n",
       "\n",
       "    .dataframe thead th {\n",
       "        text-align: right;\n",
       "    }\n",
       "</style>\n",
       "<table border=\"1\" class=\"dataframe\">\n",
       "  <thead>\n",
       "    <tr style=\"text-align: right;\">\n",
       "      <th></th>\n",
       "      <th>date</th>\n",
       "      <th>people_vaccinated</th>\n",
       "      <th>people_fully_vaccinated</th>\n",
       "      <th>total_vaccinations</th>\n",
       "      <th>vaccine</th>\n",
       "      <th>location</th>\n",
       "      <th>source_url</th>\n",
       "      <th>total_boosters</th>\n",
       "    </tr>\n",
       "  </thead>\n",
       "  <tbody>\n",
       "    <tr>\n",
       "      <th>0</th>\n",
       "      <td>2021-02-19</td>\n",
       "      <td>29</td>\n",
       "      <td>0</td>\n",
       "      <td>29</td>\n",
       "      <td>Pfizer/BioNTech</td>\n",
       "      <td>New Zealand</td>\n",
       "      <td>https://www.health.govt.nz/our-work/diseases-a...</td>\n",
       "      <td>NaN</td>\n",
       "    </tr>\n",
       "    <tr>\n",
       "      <th>1</th>\n",
       "      <td>2021-02-20</td>\n",
       "      <td>94</td>\n",
       "      <td>0</td>\n",
       "      <td>94</td>\n",
       "      <td>Pfizer/BioNTech</td>\n",
       "      <td>New Zealand</td>\n",
       "      <td>https://www.health.govt.nz/our-work/diseases-a...</td>\n",
       "      <td>NaN</td>\n",
       "    </tr>\n",
       "    <tr>\n",
       "      <th>2</th>\n",
       "      <td>2021-02-21</td>\n",
       "      <td>162</td>\n",
       "      <td>1</td>\n",
       "      <td>163</td>\n",
       "      <td>Pfizer/BioNTech</td>\n",
       "      <td>New Zealand</td>\n",
       "      <td>https://www.health.govt.nz/our-work/diseases-a...</td>\n",
       "      <td>NaN</td>\n",
       "    </tr>\n",
       "    <tr>\n",
       "      <th>3</th>\n",
       "      <td>2021-02-22</td>\n",
       "      <td>610</td>\n",
       "      <td>1</td>\n",
       "      <td>611</td>\n",
       "      <td>Pfizer/BioNTech</td>\n",
       "      <td>New Zealand</td>\n",
       "      <td>https://www.health.govt.nz/our-work/diseases-a...</td>\n",
       "      <td>NaN</td>\n",
       "    </tr>\n",
       "    <tr>\n",
       "      <th>4</th>\n",
       "      <td>2021-02-23</td>\n",
       "      <td>968</td>\n",
       "      <td>1</td>\n",
       "      <td>969</td>\n",
       "      <td>Pfizer/BioNTech</td>\n",
       "      <td>New Zealand</td>\n",
       "      <td>https://www.health.govt.nz/our-work/diseases-a...</td>\n",
       "      <td>NaN</td>\n",
       "    </tr>\n",
       "  </tbody>\n",
       "</table>\n",
       "</div>"
      ],
      "text/plain": [
       "         date  people_vaccinated  people_fully_vaccinated  total_vaccinations  \\\n",
       "0  2021-02-19                 29                        0                  29   \n",
       "1  2021-02-20                 94                        0                  94   \n",
       "2  2021-02-21                162                        1                 163   \n",
       "3  2021-02-22                610                        1                 611   \n",
       "4  2021-02-23                968                        1                 969   \n",
       "\n",
       "           vaccine     location  \\\n",
       "0  Pfizer/BioNTech  New Zealand   \n",
       "1  Pfizer/BioNTech  New Zealand   \n",
       "2  Pfizer/BioNTech  New Zealand   \n",
       "3  Pfizer/BioNTech  New Zealand   \n",
       "4  Pfizer/BioNTech  New Zealand   \n",
       "\n",
       "                                          source_url  total_boosters  \n",
       "0  https://www.health.govt.nz/our-work/diseases-a...             NaN  \n",
       "1  https://www.health.govt.nz/our-work/diseases-a...             NaN  \n",
       "2  https://www.health.govt.nz/our-work/diseases-a...             NaN  \n",
       "3  https://www.health.govt.nz/our-work/diseases-a...             NaN  \n",
       "4  https://www.health.govt.nz/our-work/diseases-a...             NaN  "
      ]
     },
     "execution_count": 62,
     "metadata": {},
     "output_type": "execute_result"
    }
   ],
   "source": [
    "# An overlook of data\n",
    "df.head()"
   ]
  },
  {
   "cell_type": "code",
   "execution_count": 63,
   "id": "6cca53ea-f049-458c-9dd9-b482e70f8b60",
   "metadata": {},
   "outputs": [
    {
     "data": {
      "text/plain": [
       "Index(['date', 'people_vaccinated', 'people_fully_vaccinated',\n",
       "       'total_vaccinations', 'vaccine', 'location', 'source_url',\n",
       "       'total_boosters'],\n",
       "      dtype='object')"
      ]
     },
     "execution_count": 63,
     "metadata": {},
     "output_type": "execute_result"
    }
   ],
   "source": [
    "# Columns\n",
    "df.columns"
   ]
  },
  {
   "cell_type": "code",
   "execution_count": 64,
   "id": "4f5cbf42-2fe9-4536-adfb-517895e9a7c2",
   "metadata": {},
   "outputs": [],
   "source": [
    "# Convert time column values to pandas datatime format\n",
    "df['date'] = pd.to_datetime(df['date'])"
   ]
  },
  {
   "cell_type": "code",
   "execution_count": 65,
   "id": "0a1ef73d-1e8e-49b1-b404-f210c9b8d11e",
   "metadata": {},
   "outputs": [],
   "source": [
    "# Drop columns which are not required\n",
    "df = df.drop(['vaccine', 'location', 'source_url', 'total_boosters', 'people_vaccinated', 'people_fully_vaccinated'], axis=1)"
   ]
  },
  {
   "cell_type": "code",
   "execution_count": 66,
   "id": "c7847370-14a3-4a80-b3f8-340c8dd45916",
   "metadata": {},
   "outputs": [
    {
     "data": {
      "image/png": "[encoded data removed]",
      "text/plain": [
       "<Figure size 1080x360 with 1 Axes>"
      ]
     },
     "metadata": {
      "needs_background": "light"
     },
     "output_type": "display_data"
    }
   ],
   "source": [
    "plt.figure(figsize=(15,5))\n",
    "plt.plot(df['total_vaccinations'])\n",
    "plt.title(\"Total Vaccinations\")\n",
    "plt.show()"
   ]
  },
  {
   "cell_type": "markdown",
   "id": "0b6c3125-a748-4525-ac23-54233dd6ad17",
   "metadata": {},
   "source": [
    "We don't need to alter any data here like we did in case of ARIMA because prophet considers dates also along with values, while in case of ARIMA, it's only values. \n",
    "\n",
    "Hence in ARIMA, the last spike affects model performance a lot, because it considers that spike as an immediate next value. While in case of Prophet, it will be knowing that there is no data for previous 5 days before the spike."
   ]
  },
  {
   "cell_type": "markdown",
   "id": "ff02107e-6249-46d5-a929-48442353a2dd",
   "metadata": {},
   "source": [
    " "
   ]
  },
  {
   "cell_type": "markdown",
   "id": "452b713e-8cf7-484f-aa9b-0bec8dfdccec",
   "metadata": {},
   "source": [
    "Prophet requires input data to be dataframe containing 2 columns. 'ds' column containing time values values in datetime format and 'y' column containing training data."
   ]
  },
  {
   "cell_type": "code",
   "execution_count": 67,
   "id": "632fd751-9d70-4905-8691-b7ae453f5585",
   "metadata": {},
   "outputs": [],
   "source": [
    "df.columns = ['ds', 'y']"
   ]
  },
  {
   "cell_type": "markdown",
   "id": "6e3939f9-9184-4073-aaa5-a119ed8a01d3",
   "metadata": {},
   "source": [
    "#### Define the model"
   ]
  },
  {
   "cell_type": "code",
   "execution_count": 79,
   "id": "65fdca57-02a7-4189-ac38-b74b51b01657",
   "metadata": {},
   "outputs": [],
   "source": [
    "model = Prophet()"
   ]
  },
  {
   "cell_type": "markdown",
   "id": "540069f7-87b6-47ac-9871-9ed4824ca1fd",
   "metadata": {},
   "source": [
    "#### Fit the model"
   ]
  },
  {
   "cell_type": "code",
   "execution_count": 80,
   "id": "a057ec0d-91e8-46cf-aa41-621b6abbc736",
   "metadata": {},
   "outputs": [
    {
     "name": "stderr",
     "output_type": "stream",
     "text": [
      "INFO:fbprophet:Disabling yearly seasonality. Run prophet with yearly_seasonality=True to override this.\n",
      "INFO:fbprophet:Disabling daily seasonality. Run prophet with daily_seasonality=True to override this.\n"
     ]
    },
    {
     "name": "stdout",
     "output_type": "stream",
     "text": [
      "Initial log joint probability = -9.99628\n"
     ]
    },
    {
     "data": {
      "text/plain": [
       "<fbprophet.forecaster.Prophet at 0x7f8bdb95f710>"
      ]
     },
     "execution_count": 80,
     "metadata": {},
     "output_type": "execute_result"
    },
    {
     "name": "stdout",
     "output_type": "stream",
     "text": [
      "    Iter      log prob        ||dx||      ||grad||       alpha      alpha0  # evals  Notes \n",
      "      99       934.053     0.0238291       3360.24           1           1      121   \n",
      "    Iter      log prob        ||dx||      ||grad||       alpha      alpha0  # evals  Notes \n",
      "     199       943.328    0.00121642       182.145           1           1      243   \n",
      "    Iter      log prob        ||dx||      ||grad||       alpha      alpha0  # evals  Notes \n",
      "     299       947.165   0.000262732       204.795      0.1507      0.1507      360   \n",
      "    Iter      log prob        ||dx||      ||grad||       alpha      alpha0  # evals  Notes \n",
      "     342       948.917   6.12658e-05       316.811   1.568e-07       0.001      464  LS failed, Hessian reset \n",
      "     399       951.668   0.000284341       124.662           1           1      531   \n",
      "    Iter      log prob        ||dx||      ||grad||       alpha      alpha0  # evals  Notes \n",
      "     422       951.844   1.68302e-05       82.3255    1.13e-07       0.001      597  LS failed, Hessian reset \n",
      "     499       952.249   0.000153865       38.8181      0.5179      0.5179      682   \n",
      "    Iter      log prob        ||dx||      ||grad||       alpha      alpha0  # evals  Notes \n",
      "     509       952.284   8.43187e-06       50.2681   1.953e-07       0.001      730  LS failed, Hessian reset \n",
      "     599        952.48   2.68139e-05       39.3117           1           1      853   \n",
      "    Iter      log prob        ||dx||      ||grad||       alpha      alpha0  # evals  Notes \n",
      "     699       952.795   4.76179e-05       31.7371           1           1      982   \n",
      "    Iter      log prob        ||dx||      ||grad||       alpha      alpha0  # evals  Notes \n",
      "     705       952.804   1.72354e-05       88.6594   3.245e-07       0.001     1023  LS failed, Hessian reset \n",
      "     799       953.016   0.000698717       117.168           1           1     1144   \n",
      "    Iter      log prob        ||dx||      ||grad||       alpha      alpha0  # evals  Notes \n",
      "     892       954.088   8.58555e-05       123.735   7.939e-07       0.001     1299  LS failed, Hessian reset \n",
      "     899       954.121   4.93508e-05       64.3162      0.3437      0.3437     1314   \n",
      "    Iter      log prob        ||dx||      ||grad||       alpha      alpha0  # evals  Notes \n",
      "     937       954.153   1.02364e-05       65.7193   8.518e-08       0.001     1417  LS failed, Hessian reset \n",
      "     954       954.164   4.24132e-06       30.6345   1.345e-07       0.001     1475  LS failed, Hessian reset \n",
      "     965       954.165   8.49592e-06       56.8132   1.154e-07       0.001     1549  LS failed, Hessian reset \n",
      "     979       954.165   1.30927e-06       34.8829     3.1e-08       0.001     1617  LS failed, Hessian reset \n",
      "     983       954.165   4.40762e-07       21.1915      0.9674      0.9674     1621   \n",
      "Optimization terminated normally: \n",
      "  Convergence detected: relative gradient magnitude is below tolerance\n"
     ]
    }
   ],
   "source": [
    "model.fit(df)"
   ]
  },
  {
   "cell_type": "code",
   "execution_count": 70,
   "id": "b2079f3e-8b74-473f-b9b6-c95af2e00537",
   "metadata": {},
   "outputs": [],
   "source": [
    "# Number of days in the future to forecast\n",
    "num_days = 90"
   ]
  },
  {
   "cell_type": "code",
   "execution_count": 84,
   "id": "e492f975-85cc-429b-a9aa-869332d946c6",
   "metadata": {},
   "outputs": [],
   "source": [
    "# Create a list of dates corresponding to next 90 days.\n",
    "last_date = list(df['ds'])[-1]\n",
    "\n",
    "forecast_dates = []\n",
    "for i in range(num_days):\n",
    "    cdate = last_date + timedelta(days=1)\n",
    "    last_date = cdate\n",
    "    forecast_dates.append(cdate)"
   ]
  },
  {
   "cell_type": "code",
   "execution_count": 82,
   "id": "67520618-6471-4001-9f88-96fc2d4e4a25",
   "metadata": {},
   "outputs": [],
   "source": [
    "# Create a forecast dataframe containing only dates\n",
    "forecast_df = pd.DataFrame({'ds': forecast_dates})"
   ]
  },
  {
   "cell_type": "code",
   "execution_count": 83,
   "id": "cb7af18c-7092-4d64-9f11-170a69c0a397",
   "metadata": {},
   "outputs": [
    {
     "data": {
      "text/html": [
       "<div>\n",
       "<style scoped>\n",
       "    .dataframe tbody tr th:only-of-type {\n",
       "        vertical-align: middle;\n",
       "    }\n",
       "\n",
       "    .dataframe tbody tr th {\n",
       "        vertical-align: top;\n",
       "    }\n",
       "\n",
       "    .dataframe thead th {\n",
       "        text-align: right;\n",
       "    }\n",
       "</style>\n",
       "<table border=\"1\" class=\"dataframe\">\n",
       "  <thead>\n",
       "    <tr style=\"text-align: right;\">\n",
       "      <th></th>\n",
       "      <th>ds</th>\n",
       "    </tr>\n",
       "  </thead>\n",
       "  <tbody>\n",
       "    <tr>\n",
       "      <th>0</th>\n",
       "      <td>2021-10-12</td>\n",
       "    </tr>\n",
       "    <tr>\n",
       "      <th>1</th>\n",
       "      <td>2021-10-13</td>\n",
       "    </tr>\n",
       "    <tr>\n",
       "      <th>2</th>\n",
       "      <td>2021-10-14</td>\n",
       "    </tr>\n",
       "    <tr>\n",
       "      <th>3</th>\n",
       "      <td>2021-10-15</td>\n",
       "    </tr>\n",
       "    <tr>\n",
       "      <th>4</th>\n",
       "      <td>2021-10-16</td>\n",
       "    </tr>\n",
       "  </tbody>\n",
       "</table>\n",
       "</div>"
      ],
      "text/plain": [
       "          ds\n",
       "0 2021-10-12\n",
       "1 2021-10-13\n",
       "2 2021-10-14\n",
       "3 2021-10-15\n",
       "4 2021-10-16"
      ]
     },
     "execution_count": 83,
     "metadata": {},
     "output_type": "execute_result"
    }
   ],
   "source": [
    "forecast_df.head()"
   ]
  },
  {
   "cell_type": "markdown",
   "id": "207d5f13-89b8-48df-8bf1-e84ad6fdbc57",
   "metadata": {},
   "source": [
    "#### Forecast values "
   ]
  },
  {
   "cell_type": "code",
   "execution_count": 85,
   "id": "33088907-9d52-4373-8930-325fecfd01ab",
   "metadata": {},
   "outputs": [],
   "source": [
    "forecast_values = model.predict(forecast_df)"
   ]
  },
  {
   "cell_type": "markdown",
   "id": "779bd032-344f-4e4a-9b22-f8897c9dd221",
   "metadata": {},
   "source": [
    "#### Plot results using prophet's own plotting method"
   ]
  },
  {
   "cell_type": "code",
   "execution_count": 86,
   "id": "5006886d-e698-4991-abd4-e324f335418c",
   "metadata": {},
   "outputs": [
    {
     "data": {
      "image/png": "[encoded data removed]",
      "text/plain": [
       "<Figure size 720x432 with 1 Axes>"
      ]
     },
     "metadata": {},
     "output_type": "display_data"
    }
   ],
   "source": [
    "model.plot(forecast_values)\n",
    "plt.show()"
   ]
  },
  {
   "cell_type": "markdown",
   "id": "8ae86ed9-debe-4914-bae4-457a3d1013ed",
   "metadata": {},
   "source": [
    "#### Plotting the same results using matplotlib so that it can be compared to plots in ARIMA"
   ]
  },
  {
   "cell_type": "code",
   "execution_count": 87,
   "id": "b974e5b7-75ad-4244-9ab8-04287d37e2be",
   "metadata": {},
   "outputs": [],
   "source": [
    "results = list(forecast_values['yhat'])"
   ]
  },
  {
   "cell_type": "code",
   "execution_count": 88,
   "id": "908b673c-6bcb-4977-a90c-30db3fb2db65",
   "metadata": {},
   "outputs": [
    {
     "data": {
      "image/png": "[encoded data removed]",
      "text/plain": [
       "<Figure size 1080x360 with 1 Axes>"
      ]
     },
     "metadata": {
      "needs_background": "light"
     },
     "output_type": "display_data"
    },
    {
     "name": "stdout",
     "output_type": "stream",
     "text": [
      "Last value: 11420187.563491954\n"
     ]
    }
   ],
   "source": [
    "plt.rcParams[\"figure.figsize\"] = (15,5)\n",
    "plt.plot(df['ds'], df['y'], label='past vaccinations')\n",
    "plt.plot(forecast_df['ds'], forecast_values['yhat'], label='forecasted vaccinations')\n",
    "plt.title(\"date vs total_vaccinations\")\n",
    "plt.legend()\n",
    "plt.xticks(rotation=45)\n",
    "plt.show()\n",
    "\n",
    "print(f\"Last value: {results[-1]}\")"
   ]
  },
  {
   "cell_type": "markdown",
   "id": "f4e93ddd-48fe-491e-839a-6148e9d2c4fa",
   "metadata": {},
   "source": [
    "#### Total vaccinations are projected to reach 11.4 million in next 3 months."
   ]
  },
  {
   "cell_type": "markdown",
   "id": "0e7918e4-0cb5-4ede-9346-dcd35a1d8295",
   "metadata": {},
   "source": [
    " "
   ]
  },
  {
   "cell_type": "code",
   "execution_count": null,
   "id": "d82441b7-3e57-4620-9e03-c5bde520ebed",
   "metadata": {},
   "outputs": [],
   "source": []
  }
 ],
 "metadata": {
  "environment": {
   "kernel": "python3",
   "name": "tf2-gpu.2-6.m82",
   "type": "gcloud",
   "uri": "gcr.io/deeplearning-platform-release/tf2-gpu.2-6:m82"
  },
  "kernelspec": {
   "display_name": "Python 3",
   "language": "python",
   "name": "python3"
  },
  "language_info": {
   "codemirror_mode": {
    "name": "ipython",
    "version": 3
   },
   "file_extension": ".py",
   "mimetype": "text/x-python",
   "name": "python",
   "nbconvert_exporter": "python",
   "pygments_lexer": "ipython3",
   "version": "3.7.10"
  }
 },
 "nbformat": 4,
 "nbformat_minor": 5
}
