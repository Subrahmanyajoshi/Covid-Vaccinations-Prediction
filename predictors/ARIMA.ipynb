{
 "cells": [
  {
   "cell_type": "code",
   "execution_count": 1,
   "id": "5fc92f7a-68ed-4a65-90cc-c6599a06be1c",
   "metadata": {},
   "outputs": [],
   "source": [
    "import pandas as pd\n",
    "import numpy as np\n",
    "from matplotlib import pyplot as plt\n",
    "\n",
    "from statsmodels.tsa.arima.model import ARIMA\n",
    "\n",
    "from sklearn.preprocessing import StandardScaler\n",
    "from datetime import timedelta"
   ]
  },
  {
   "cell_type": "code",
   "execution_count": 2,
   "id": "e6ddfc0a-a6c7-4bb9-94d9-b054a2eab5e8",
   "metadata": {},
   "outputs": [],
   "source": [
    "# matplotlib plot sizes\n",
    "plt.rcParams[\"figure.figsize\"] = (15,5)"
   ]
  },
  {
   "cell_type": "code",
   "execution_count": 3,
   "id": "725e87af-fd6b-46a5-bf4b-09f053e80ab7",
   "metadata": {},
   "outputs": [],
   "source": [
    "# Read csv file\n",
    "df = pd.read_csv('../data/nz.csv')"
   ]
  },
  {
   "cell_type": "code",
   "execution_count": 4,
   "id": "5e32191a-2a43-4445-aa5e-2faeca09c15b",
   "metadata": {},
   "outputs": [
    {
     "data": {
      "text/html": [
       "<div>\n",
       "<style scoped>\n",
       "    .dataframe tbody tr th:only-of-type {\n",
       "        vertical-align: middle;\n",
       "    }\n",
       "\n",
       "    .dataframe tbody tr th {\n",
       "        vertical-align: top;\n",
       "    }\n",
       "\n",
       "    .dataframe thead th {\n",
       "        text-align: right;\n",
       "    }\n",
       "</style>\n",
       "<table border=\"1\" class=\"dataframe\">\n",
       "  <thead>\n",
       "    <tr style=\"text-align: right;\">\n",
       "      <th></th>\n",
       "      <th>date</th>\n",
       "      <th>people_vaccinated</th>\n",
       "      <th>people_fully_vaccinated</th>\n",
       "      <th>total_vaccinations</th>\n",
       "      <th>vaccine</th>\n",
       "      <th>location</th>\n",
       "      <th>source_url</th>\n",
       "      <th>total_boosters</th>\n",
       "    </tr>\n",
       "  </thead>\n",
       "  <tbody>\n",
       "    <tr>\n",
       "      <th>0</th>\n",
       "      <td>2021-02-19</td>\n",
       "      <td>29</td>\n",
       "      <td>0</td>\n",
       "      <td>29</td>\n",
       "      <td>Pfizer/BioNTech</td>\n",
       "      <td>New Zealand</td>\n",
       "      <td>https://www.health.govt.nz/our-work/diseases-a...</td>\n",
       "      <td>NaN</td>\n",
       "    </tr>\n",
       "    <tr>\n",
       "      <th>1</th>\n",
       "      <td>2021-02-20</td>\n",
       "      <td>94</td>\n",
       "      <td>0</td>\n",
       "      <td>94</td>\n",
       "      <td>Pfizer/BioNTech</td>\n",
       "      <td>New Zealand</td>\n",
       "      <td>https://www.health.govt.nz/our-work/diseases-a...</td>\n",
       "      <td>NaN</td>\n",
       "    </tr>\n",
       "    <tr>\n",
       "      <th>2</th>\n",
       "      <td>2021-02-21</td>\n",
       "      <td>162</td>\n",
       "      <td>1</td>\n",
       "      <td>163</td>\n",
       "      <td>Pfizer/BioNTech</td>\n",
       "      <td>New Zealand</td>\n",
       "      <td>https://www.health.govt.nz/our-work/diseases-a...</td>\n",
       "      <td>NaN</td>\n",
       "    </tr>\n",
       "    <tr>\n",
       "      <th>3</th>\n",
       "      <td>2021-02-22</td>\n",
       "      <td>610</td>\n",
       "      <td>1</td>\n",
       "      <td>611</td>\n",
       "      <td>Pfizer/BioNTech</td>\n",
       "      <td>New Zealand</td>\n",
       "      <td>https://www.health.govt.nz/our-work/diseases-a...</td>\n",
       "      <td>NaN</td>\n",
       "    </tr>\n",
       "    <tr>\n",
       "      <th>4</th>\n",
       "      <td>2021-02-23</td>\n",
       "      <td>968</td>\n",
       "      <td>1</td>\n",
       "      <td>969</td>\n",
       "      <td>Pfizer/BioNTech</td>\n",
       "      <td>New Zealand</td>\n",
       "      <td>https://www.health.govt.nz/our-work/diseases-a...</td>\n",
       "      <td>NaN</td>\n",
       "    </tr>\n",
       "  </tbody>\n",
       "</table>\n",
       "</div>"
      ],
      "text/plain": [
       "         date  people_vaccinated  people_fully_vaccinated  total_vaccinations  \\\n",
       "0  2021-02-19                 29                        0                  29   \n",
       "1  2021-02-20                 94                        0                  94   \n",
       "2  2021-02-21                162                        1                 163   \n",
       "3  2021-02-22                610                        1                 611   \n",
       "4  2021-02-23                968                        1                 969   \n",
       "\n",
       "           vaccine     location  \\\n",
       "0  Pfizer/BioNTech  New Zealand   \n",
       "1  Pfizer/BioNTech  New Zealand   \n",
       "2  Pfizer/BioNTech  New Zealand   \n",
       "3  Pfizer/BioNTech  New Zealand   \n",
       "4  Pfizer/BioNTech  New Zealand   \n",
       "\n",
       "                                          source_url  total_boosters  \n",
       "0  https://www.health.govt.nz/our-work/diseases-a...             NaN  \n",
       "1  https://www.health.govt.nz/our-work/diseases-a...             NaN  \n",
       "2  https://www.health.govt.nz/our-work/diseases-a...             NaN  \n",
       "3  https://www.health.govt.nz/our-work/diseases-a...             NaN  \n",
       "4  https://www.health.govt.nz/our-work/diseases-a...             NaN  "
      ]
     },
     "execution_count": 4,
     "metadata": {},
     "output_type": "execute_result"
    }
   ],
   "source": [
    "# An overlook of data\n",
    "df.head()"
   ]
  },
  {
   "cell_type": "code",
   "execution_count": 5,
   "id": "fbccdb1f-8da8-47eb-a890-815d5f3b92a5",
   "metadata": {},
   "outputs": [
    {
     "data": {
      "text/plain": [
       "Index(['date', 'people_vaccinated', 'people_fully_vaccinated',\n",
       "       'total_vaccinations', 'vaccine', 'location', 'source_url',\n",
       "       'total_boosters'],\n",
       "      dtype='object')"
      ]
     },
     "execution_count": 5,
     "metadata": {},
     "output_type": "execute_result"
    }
   ],
   "source": [
    "# Columns\n",
    "df.columns"
   ]
  },
  {
   "cell_type": "code",
   "execution_count": 6,
   "id": "de649f3b-ff9a-4e69-a045-6fdfd58e8330",
   "metadata": {},
   "outputs": [],
   "source": [
    "# Drop columns which are not required\n",
    "df = df.drop(['vaccine', 'location', 'source_url', 'total_boosters', 'people_vaccinated', 'people_fully_vaccinated'], axis=1)\n",
    "\n",
    "# Convert date column to datetime format\n",
    "df['date'] = pd.to_datetime(df['date'])\n",
    "df = df.rename(columns={'total_vaccinations': 'values'})"
   ]
  },
  {
   "cell_type": "code",
   "execution_count": 7,
   "id": "a5490f3b-5b2d-458b-8816-87999a05d18d",
   "metadata": {},
   "outputs": [
    {
     "data": {
      "image/png": "[encoded data removed]",
      "text/plain": [
       "<Figure size 1080x360 with 1 Axes>"
      ]
     },
     "metadata": {
      "needs_background": "light"
     },
     "output_type": "display_data"
    }
   ],
   "source": [
    "plt.figure(figsize=(15,5))\n",
    "plt.plot(df['values'])\n",
    "plt.title(\"Total Vaccinations\")\n",
    "plt.show()"
   ]
  },
  {
   "cell_type": "code",
   "execution_count": 8,
   "id": "d065ab61-ef4e-44ef-82bc-6c1ca9ec307c",
   "metadata": {},
   "outputs": [
    {
     "data": {
      "text/html": [
       "<div>\n",
       "<style scoped>\n",
       "    .dataframe tbody tr th:only-of-type {\n",
       "        vertical-align: middle;\n",
       "    }\n",
       "\n",
       "    .dataframe tbody tr th {\n",
       "        vertical-align: top;\n",
       "    }\n",
       "\n",
       "    .dataframe thead th {\n",
       "        text-align: right;\n",
       "    }\n",
       "</style>\n",
       "<table border=\"1\" class=\"dataframe\">\n",
       "  <thead>\n",
       "    <tr style=\"text-align: right;\">\n",
       "      <th></th>\n",
       "      <th>date</th>\n",
       "      <th>values</th>\n",
       "    </tr>\n",
       "  </thead>\n",
       "  <tbody>\n",
       "    <tr>\n",
       "      <th>224</th>\n",
       "      <td>2021-10-01</td>\n",
       "      <td>5270226</td>\n",
       "    </tr>\n",
       "    <tr>\n",
       "      <th>225</th>\n",
       "      <td>2021-10-02</td>\n",
       "      <td>5320467</td>\n",
       "    </tr>\n",
       "    <tr>\n",
       "      <th>226</th>\n",
       "      <td>2021-10-03</td>\n",
       "      <td>5347565</td>\n",
       "    </tr>\n",
       "    <tr>\n",
       "      <th>227</th>\n",
       "      <td>2021-10-04</td>\n",
       "      <td>5403487</td>\n",
       "    </tr>\n",
       "    <tr>\n",
       "      <th>228</th>\n",
       "      <td>2021-10-05</td>\n",
       "      <td>5467111</td>\n",
       "    </tr>\n",
       "    <tr>\n",
       "      <th>229</th>\n",
       "      <td>2021-10-11</td>\n",
       "      <td>5902104</td>\n",
       "    </tr>\n",
       "  </tbody>\n",
       "</table>\n",
       "</div>"
      ],
      "text/plain": [
       "          date   values\n",
       "224 2021-10-01  5270226\n",
       "225 2021-10-02  5320467\n",
       "226 2021-10-03  5347565\n",
       "227 2021-10-04  5403487\n",
       "228 2021-10-05  5467111\n",
       "229 2021-10-11  5902104"
      ]
     },
     "execution_count": 8,
     "metadata": {},
     "output_type": "execute_result"
    }
   ],
   "source": [
    "df.tail(n=6)"
   ]
  },
  {
   "cell_type": "markdown",
   "id": "1f933634-98c2-433e-9aa9-d73cf112b004",
   "metadata": {},
   "source": [
    "### Analysis"
   ]
  },
  {
   "cell_type": "markdown",
   "id": "f7cc0e45-abf9-4687-a57f-8b8b732cba91",
   "metadata": {},
   "source": [
    "By looking at the above chart and data, it is clear that there is a sudden spike at the end. Number of vaccinations per day is less than 100,000 constantly and suddenly for the last date in the dataset, it's more than 400,000 a day. 5 days of data also is missing. Is the last value, sum of vaccinations of those 5 days?\n",
    "\n",
    "Auto regressive models like ARIMA and SARIMA don't take into account the time information while doing calculations. They simply look at values of the time series and that's it. So the take the spike at the end as a genuine value and that can really affect forecast.\n",
    "\n",
    "So, it makes sense to remove the abnormal spike at the end for auto regressive models, let's compare the outputs by doing both."
   ]
  },
  {
   "cell_type": "markdown",
   "id": "d3106fbc-9b94-4eae-9f3e-045393a14b5a",
   "metadata": {},
   "source": [
    "### Stationary Test"
   ]
  },
  {
   "cell_type": "markdown",
   "id": "79dbeda8-182c-48ff-970c-fc3a09f78590",
   "metadata": {},
   "source": [
    "Just by looking at the plot of the data, we can see that the data is not stationary at all. We will still verify this programmatically by using ADF test"
   ]
  },
  {
   "cell_type": "code",
   "execution_count": 9,
   "id": "48bda81e-fb59-4f5d-87ad-cc583da3702e",
   "metadata": {},
   "outputs": [
    {
     "name": "stdout",
     "output_type": "stream",
     "text": [
      "ADF Statistic: 4.141903\n"
     ]
    }
   ],
   "source": [
    "from statsmodels.tsa.stattools import adfuller\n",
    "\n",
    "result = adfuller(df['values'].values)\n",
    "print('ADF Statistic: %f' % result[0])"
   ]
  },
  {
   "cell_type": "code",
   "execution_count": 10,
   "id": "cec348f4-5db9-49a9-8f87-677cf2155160",
   "metadata": {},
   "outputs": [
    {
     "data": {
      "image/png": "[encoded data removed]",
      "text/plain": [
       "<Figure size 1080x360 with 1 Axes>"
      ]
     },
     "metadata": {
      "needs_background": "light"
     },
     "output_type": "display_data"
    }
   ],
   "source": [
    "from pandas.plotting import autocorrelation_plot\n",
    "\n",
    "autocorrelation_plot(df['values'])\n",
    "plt.show()"
   ]
  },
  {
   "cell_type": "markdown",
   "id": "0247b913-28c4-4423-ab2d-baee9fc0fbe2",
   "metadata": {},
   "source": [
    "There is a positive correlation in the first 80 records or so. there is a very high correlation (> 0.5) for the first 30 values or so. So a good starting value for AR parameter can be 30.\n",
    "\n",
    "The dataset is highly non stationary. The starting value for differencing parameter can be 3.\n",
    "\n",
    "There is a high positive correlation, we will use a moving average paramter of 1 to smooth correlation errors."
   ]
  },
  {
   "cell_type": "markdown",
   "id": "74292bfb-10e4-474e-b895-63a700de57a2",
   "metadata": {},
   "source": [
    "## 1. Without removing the spike at the end"
   ]
  },
  {
   "cell_type": "code",
   "execution_count": 11,
   "id": "3d68c470-c67b-41da-a5ab-a28d3c877dbc",
   "metadata": {},
   "outputs": [],
   "source": [
    "# Dataset\n",
    "data = df['values'].values.reshape(-1,1)"
   ]
  },
  {
   "cell_type": "code",
   "execution_count": 12,
   "id": "4d3aa911-738d-47c3-8b82-793d855643fc",
   "metadata": {},
   "outputs": [],
   "source": [
    "# Scaling. We will use standard scaler\n",
    "scaler = StandardScaler()\n",
    "data = scaler.fit_transform(data)"
   ]
  },
  {
   "cell_type": "markdown",
   "id": "7d445b3e-8fdb-4c3b-b66c-a7e1a74774bb",
   "metadata": {},
   "source": [
    "### ARIMA model "
   ]
  },
  {
   "cell_type": "code",
   "execution_count": 13,
   "id": "91e4cee0-2359-4748-8218-9a806245e0ee",
   "metadata": {},
   "outputs": [
    {
     "name": "stderr",
     "output_type": "stream",
     "text": [
      "/opt/conda/lib/python3.7/site-packages/statsmodels/tsa/statespace/sarimax.py:966: UserWarning: Non-stationary starting autoregressive parameters found. Using zeros as starting parameters.\n",
      "  warn('Non-stationary starting autoregressive parameters'\n",
      "/opt/conda/lib/python3.7/site-packages/statsmodels/base/model.py:606: ConvergenceWarning: Maximum Likelihood optimization failed to converge. Check mle_retvals\n",
      "  ConvergenceWarning)\n"
     ]
    }
   ],
   "source": [
    "# Values for 'order' parameter are selected after hyper parameter tuning. Many values were tried and (25,1,0) gave the best results among them.\n",
    "model = ARIMA(data, order=(30,1,1))\n",
    "model = model.fit()"
   ]
  },
  {
   "cell_type": "markdown",
   "id": "803597fd-2019-40d9-ba6f-85682e6bc014",
   "metadata": {},
   "source": [
    "### Forecasting"
   ]
  },
  {
   "cell_type": "code",
   "execution_count": 14,
   "id": "cd057633-dce1-46e2-b3c1-063fcfa82a7e",
   "metadata": {},
   "outputs": [],
   "source": [
    "# Number of days in the future to forecast\n",
    "num_days = 90"
   ]
  },
  {
   "cell_type": "code",
   "execution_count": 15,
   "id": "08cf360e-2684-4372-970c-c2c1ab2bb4ff",
   "metadata": {},
   "outputs": [],
   "source": [
    "# Forecast total vaccinations for next 90 days\n",
    "results = model.predict(start=data.size, end=data.size+num_days-1, dunamic=True)\n",
    "results = scaler.inverse_transform(results.reshape(-1, 1))"
   ]
  },
  {
   "cell_type": "code",
   "execution_count": 16,
   "id": "fd84063c-7bff-4873-b7c4-d1970129f3c0",
   "metadata": {},
   "outputs": [],
   "source": [
    "# Extend the date list for next 90 days\n",
    "datelist = list(df['date'])\n",
    "\n",
    "for i in range(num_days):\n",
    "    datelist.append(datelist[-1] + timedelta(days=1))"
   ]
  },
  {
   "cell_type": "markdown",
   "id": "c791f960-5793-4245-b151-b9bf1f1dbd21",
   "metadata": {},
   "source": [
    "### Visualize Results"
   ]
  },
  {
   "cell_type": "code",
   "execution_count": 17,
   "id": "50195743-0819-420b-9d22-9f70cdffa530",
   "metadata": {},
   "outputs": [
    {
     "data": {
      "image/png": "[encoded data removed]",
      "text/plain": [
       "<Figure size 1080x360 with 1 Axes>"
      ]
     },
     "metadata": {
      "needs_background": "light"
     },
     "output_type": "display_data"
    },
    {
     "name": "stdout",
     "output_type": "stream",
     "text": [
      "Last value: 15507454.32949068\n"
     ]
    }
   ],
   "source": [
    "plt.plot(datelist[:data.size], df['values'], label='past vaccinations')\n",
    "plt.plot(datelist[data.size:], results, label='forecasted vaccinations')\n",
    "plt.title(\"date vs total_vaccinations\")\n",
    "plt.legend()\n",
    "plt.xticks(rotation=45)\n",
    "plt.show()\n",
    "\n",
    "print(f\"Last value: {results[-1][0]}\")"
   ]
  },
  {
   "cell_type": "markdown",
   "id": "8029e0c6-b15d-4353-8140-c751a1164f86",
   "metadata": {},
   "source": [
    " "
   ]
  },
  {
   "cell_type": "markdown",
   "id": "83b9e968-d538-4c40-a459-b73c9b87be35",
   "metadata": {},
   "source": [
    "#### It's clearly visible that model has picked up the spike in the end and forecasts have much upward trend. Total vaccinations are projected to reach 15.5 million in next 3 months."
   ]
  },
  {
   "cell_type": "markdown",
   "id": "9a26039e-68b9-4196-91bf-57191f93d1f4",
   "metadata": {},
   "source": [
    " "
   ]
  },
  {
   "cell_type": "markdown",
   "id": "122aaa93-67fc-47ce-a226-99fad2c9747d",
   "metadata": {},
   "source": [
    "## 2. Removing spike at the end"
   ]
  },
  {
   "cell_type": "code",
   "execution_count": 18,
   "id": "b10074b3-8cf2-4efa-9ab7-56104264d419",
   "metadata": {},
   "outputs": [],
   "source": [
    "# Create a new column containing smoothed version of the data. \n",
    "df['vaccinations_smoothed'] = df['values'].rolling(window=3).mean()"
   ]
  },
  {
   "cell_type": "code",
   "execution_count": 19,
   "id": "5ecbab04-0d5e-44fa-9559-02c64376ba6d",
   "metadata": {},
   "outputs": [
    {
     "data": {
      "image/png": "[encoded data removed]",
      "text/plain": [
       "<Figure size 1080x360 with 1 Axes>"
      ]
     },
     "metadata": {
      "needs_background": "light"
     },
     "output_type": "display_data"
    }
   ],
   "source": [
    "plt.plot(df['values'], label='total_vaccinations')\n",
    "plt.plot(df['vaccinations_smoothed'], label='vaccinations_smoothed')\n",
    "plt.legend()\n",
    "plt.show()"
   ]
  },
  {
   "cell_type": "markdown",
   "id": "310bc789-5f28-4c99-a2c7-c3fe23634f7f",
   "metadata": {},
   "source": [
    "#### Looking at the orange curve, in the very end, we can see that the spike is somewhat removed"
   ]
  },
  {
   "cell_type": "markdown",
   "id": "4227ee00-1b33-40a9-bd17-b788e14f2ffc",
   "metadata": {},
   "source": [
    "We will be using the smoothed version to train our model "
   ]
  },
  {
   "cell_type": "code",
   "execution_count": 20,
   "id": "a2147787-63db-4f3a-9908-d54a434f22b6",
   "metadata": {},
   "outputs": [
    {
     "data": {
      "image/png": "[encoded data removed]",
      "text/plain": [
       "<Figure size 1080x360 with 1 Axes>"
      ]
     },
     "metadata": {
      "needs_background": "light"
     },
     "output_type": "display_data"
    }
   ],
   "source": [
    "from pandas.plotting import autocorrelation_plot\n",
    "\n",
    "autocorrelation_plot(df['values'])\n",
    "plt.show()"
   ]
  },
  {
   "cell_type": "markdown",
   "id": "003a8174-96b6-4a13-89cf-da2d2db78279",
   "metadata": {},
   "source": [
    "Auto correlation values haven't changed much. Same ARIMA paramters can be used as previous ones"
   ]
  },
  {
   "cell_type": "code",
   "execution_count": 21,
   "id": "c9314182-a42c-4a96-a5d0-0251156c754b",
   "metadata": {},
   "outputs": [],
   "source": [
    "# Create Dataset and scale it\n",
    "data = df['vaccinations_smoothed'].values.reshape(-1,1)\n",
    "\n",
    "scaler = StandardScaler()\n",
    "data = scaler.fit_transform(data)"
   ]
  },
  {
   "cell_type": "markdown",
   "id": "06d6906d-342b-4e0a-8693-5964ea6307d7",
   "metadata": {},
   "source": [
    "### ARIMA model"
   ]
  },
  {
   "cell_type": "code",
   "execution_count": 22,
   "id": "5efa4c35-8fd0-42a9-8136-7bf17df824a5",
   "metadata": {},
   "outputs": [
    {
     "name": "stderr",
     "output_type": "stream",
     "text": [
      "/opt/conda/lib/python3.7/site-packages/statsmodels/tsa/statespace/sarimax.py:966: UserWarning: Non-stationary starting autoregressive parameters found. Using zeros as starting parameters.\n",
      "  warn('Non-stationary starting autoregressive parameters'\n",
      "/opt/conda/lib/python3.7/site-packages/statsmodels/base/model.py:606: ConvergenceWarning: Maximum Likelihood optimization failed to converge. Check mle_retvals\n",
      "  ConvergenceWarning)\n"
     ]
    }
   ],
   "source": [
    "model = ARIMA(data, order=(30,1,1))\n",
    "model = model.fit()"
   ]
  },
  {
   "cell_type": "markdown",
   "id": "af423c56-1ced-4f5b-84b1-07e1b9953a5b",
   "metadata": {},
   "source": [
    "### Forecasting"
   ]
  },
  {
   "cell_type": "code",
   "execution_count": 23,
   "id": "d43d90a6-74e2-44b9-9b87-0960cdc2ac71",
   "metadata": {},
   "outputs": [],
   "source": [
    "# Number of days in the future to forecast\n",
    "num_days = 90"
   ]
  },
  {
   "cell_type": "code",
   "execution_count": 24,
   "id": "4c6eb338-1e24-4e4f-a2c3-1e2134c57eac",
   "metadata": {},
   "outputs": [],
   "source": [
    "# Forecast total vaccinations for next 90 days\n",
    "results = model.predict(start=data.size, end=data.size+num_days-1, dunamic=True)\n",
    "results = scaler.inverse_transform(results.reshape(-1, 1))"
   ]
  },
  {
   "cell_type": "code",
   "execution_count": 25,
   "id": "847ee703-e3af-4cef-9129-8a8b492c3006",
   "metadata": {},
   "outputs": [],
   "source": [
    "# Extend the date list for next 90 days\n",
    "\n",
    "datelist = list(df['date'])\n",
    "\n",
    "for i in range(num_days):\n",
    "    datelist.append(datelist[-1] + timedelta(days=1))"
   ]
  },
  {
   "cell_type": "markdown",
   "id": "f9c32d4e-23e1-4437-a196-90f514277379",
   "metadata": {},
   "source": [
    "### Visualize Results"
   ]
  },
  {
   "cell_type": "code",
   "execution_count": 26,
   "id": "6e2aa205-6b63-43c3-8b31-a49ec9a63abb",
   "metadata": {},
   "outputs": [
    {
     "data": {
      "image/png": "[encoded data removed]",
      "text/plain": [
       "<Figure size 1080x360 with 1 Axes>"
      ]
     },
     "metadata": {
      "needs_background": "light"
     },
     "output_type": "display_data"
    },
    {
     "name": "stdout",
     "output_type": "stream",
     "text": [
      "Last value: 11600249.638832316\n"
     ]
    }
   ],
   "source": [
    "plt.rcParams[\"figure.figsize\"] = (15,5)\n",
    "plt.plot(datelist[:data.size], df['values'], label='past vaccinations')\n",
    "plt.plot(datelist[data.size:], results, label='forecasted vaccinations')\n",
    "plt.title(\"date vs total_vaccinations\")\n",
    "plt.legend()\n",
    "plt.xticks(rotation=45)\n",
    "plt.show()\n",
    "\n",
    "print(f\"Last value: {results[-1][0]}\")"
   ]
  },
  {
   "cell_type": "markdown",
   "id": "d2710440-cb62-422b-99c3-c46612075482",
   "metadata": {},
   "source": [
    " "
   ]
  },
  {
   "cell_type": "markdown",
   "id": "b641010e-2009-4d55-be94-9052b243b09b",
   "metadata": {},
   "source": [
    "#### Now that the spike is removed, forecasts have less upward trend. Total vaccinations are projected to reach 11.6 million in next 3 months."
   ]
  },
  {
   "cell_type": "markdown",
   "id": "e184ca88-9e52-43cc-8ee2-fffd556da2c1",
   "metadata": {},
   "source": [
    " "
   ]
  },
  {
   "cell_type": "code",
   "execution_count": null,
   "id": "46ec8dd5-70bd-421f-aac4-b4f148cf3876",
   "metadata": {},
   "outputs": [],
   "source": []
  }
 ],
 "metadata": {
  "environment": {
   "kernel": "python3",
   "name": "common-cpu.m92",
   "type": "gcloud",
   "uri": "gcr.io/deeplearning-platform-release/base-cpu:m92"
  },
  "kernelspec": {
   "display_name": "Python 3",
   "language": "python",
   "name": "python3"
  },
  "language_info": {
   "codemirror_mode": {
    "name": "ipython",
    "version": 3
   },
   "file_extension": ".py",
   "mimetype": "text/x-python",
   "name": "python",
   "nbconvert_exporter": "python",
   "pygments_lexer": "ipython3",
   "version": "3.7.12"
  }
 },
 "nbformat": 4,
 "nbformat_minor": 5
}
